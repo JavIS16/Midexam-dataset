{
  "nbformat": 4,
  "nbformat_minor": 0,
  "metadata": {
    "colab": {
      "name": "2440016672.ipynb",
      "provenance": [],
      "collapsed_sections": [
        "G4D1U_9bc0mv",
        "k9zwkba9cjnZ",
        "TAcacC3pYqvM",
        "1BLIWiUsdJpa"
      ]
    },
    "kernelspec": {
      "name": "python3",
      "display_name": "Python 3"
    },
    "language_info": {
      "name": "python"
    }
  },
  "cells": [
    {
      "cell_type": "markdown",
      "source": [
        "# Name, NIM, Subject, and Class\n",
        "\n",
        "\n",
        "*   Name: Javier Islamey\n",
        "*   NIM: 2440016672\n",
        "*   Class: LD02\n",
        "*   Subject: Machine Learning Mid Exam\n",
        "\n"
      ],
      "metadata": {
        "id": "RiaY8DnJdW22"
      }
    },
    {
      "cell_type": "markdown",
      "source": [
        "# 1. Objective and approach"
      ],
      "metadata": {
        "id": "G4D1U_9bc0mv"
      }
    },
    {
      "cell_type": "markdown",
      "source": [
        "a. Predicting the humidity based on temperature. This is suitable because there are two temperature features that can be used to predict humidity.\n",
        "\n"
      ],
      "metadata": {
        "id": "2McAIBIPhXiI"
      }
    },
    {
      "cell_type": "markdown",
      "source": [
        "b. Ridge regression, because the variables involved are highly correlated."
      ],
      "metadata": {
        "id": "AcJtjt4YkHku"
      }
    },
    {
      "cell_type": "markdown",
      "source": [
        "c. The variables are , t1, t2, and hum. All of them are continuous random variables because they are obtained through measuring.\n",
        "\n"
      ],
      "metadata": {
        "id": "7FvzaJsDkHtb"
      }
    },
    {
      "cell_type": "code",
      "source": [
        "print(df['t1'], df['t2'], df['hum'])"
      ],
      "metadata": {
        "id": "1Mku3xsElc2B"
      },
      "execution_count": null,
      "outputs": []
    },
    {
      "cell_type": "code",
      "source": [
        "# d\n",
        "# Get pdf using uniform distribution\n",
        "s = pd.Series(df['hum'])\n",
        "\n",
        "# Change column to float\n",
        "humArr = np.array(df['hum'].astype(float))\n",
        "\n",
        "# Get predicted value\n",
        "print(\"Predicted value for variable hum = \", (humArr * s).sum() / s.sum())"
      ],
      "metadata": {
        "colab": {
          "base_uri": "https://localhost:8080/"
        },
        "id": "DQe3NMO4mUp2",
        "outputId": "9f51b612-9931-416d-89da-41e80a4dd766"
      },
      "execution_count": null,
      "outputs": [
        {
          "output_type": "stream",
          "name": "stdout",
          "text": [
            "Predicted value for variable hum =  75.1573863005911\n"
          ]
        }
      ]
    },
    {
      "cell_type": "markdown",
      "source": [
        "# 2. Linear regression"
      ],
      "metadata": {
        "id": "k9zwkba9cjnZ"
      }
    },
    {
      "cell_type": "code",
      "execution_count": 1,
      "metadata": {
        "id": "JKyGGBhzVKpL"
      },
      "outputs": [],
      "source": [
        "import pandas as pd\n",
        "import matplotlib.pyplot as plt\n",
        "import numpy as np\n",
        "import sklearn\n",
        "from sklearn import linear_model\n",
        "from sklearn.metrics import mean_squared_error, r2_score"
      ]
    },
    {
      "cell_type": "code",
      "source": [
        "# Import csv using GitHub raw url\n",
        "url = 'https://raw.githubusercontent.com/JavIS16/Midexam-dataset/main/london_merged.csv'\n",
        "df = pd.read_csv(url)\n",
        "\n",
        "# Convert 'cnt' column's data type from string to float\n",
        "df['cnt'] = df['cnt'].astype(float)\n",
        "\n",
        "# Slice 'cnt' column from dataframe and turn it into a 1D array\n",
        "arr = np.array(df['cnt'])\n",
        "\n",
        "# Reshape 1D array into 2D array\n",
        "bike_x = np.reshape(arr, (-1,2))\n",
        "bike_y = np.reshape(arr, (-1,2))"
      ],
      "metadata": {
        "id": "8ZNyOvWGcrHv"
      },
      "execution_count": 18,
      "outputs": []
    },
    {
      "cell_type": "code",
      "source": [
        "# Get 20% of array\n",
        "twentyPercent = round(bike_x.size * 0.2)\n",
        "\n",
        "#split data into training and testing sets, Training=80%, Test=20%\n",
        "bike_x_train = bike_x[:-(twentyPercent)]\n",
        "bike_x_test = bike_x[-(twentyPercent):]\n",
        "\n",
        "#split data into training and testing sets, Training=80%, Test=20%\n",
        "bike_y_train = bike_y[:-(twentyPercent)]\n",
        "bike_y_test = bike_y[-(twentyPercent):]\n",
        "\n",
        "print(f\"No. of x train dataset: {bike_x_train.shape[0]}\")\n",
        "print(f\"No. of y train dataset: {bike_y_train.shape[0]}\")\n",
        "\n",
        "print(f\"No. of x test dataset: {bike_x_test.shape[0]}\")\n",
        "print(f\"No. of y test dataset: {bike_y_test.shape[0]}\")"
      ],
      "metadata": {
        "colab": {
          "base_uri": "https://localhost:8080/"
        },
        "id": "sFHLwbJzfP13",
        "outputId": "83abbc5c-f3ab-4d6e-fd56-26944b51c49c"
      },
      "execution_count": 14,
      "outputs": [
        {
          "output_type": "stream",
          "name": "stdout",
          "text": [
            "No. of x train dataset: 5224\n",
            "No. of y train dataset: 5224\n",
            "No. of x test dataset: 3483\n",
            "No. of y test dataset: 3483\n"
          ]
        }
      ]
    },
    {
      "cell_type": "code",
      "source": [
        "# Create linear regression object\n",
        "linRegr = linear_model.LinearRegression()\n",
        "\n",
        "# Train model with training set\n",
        "linRegr.fit(bike_x_train, bike_y_train)\n",
        "\n",
        "# Predict using test set\n",
        "bike_y_pred = linRegr.predict(bike_x_test)"
      ],
      "metadata": {
        "id": "rVcCyhvTu6s7"
      },
      "execution_count": 15,
      "outputs": []
    },
    {
      "cell_type": "code",
      "source": [
        "# Print coefficients\n",
        "print(\"Coefficients: \\n\", linRegr.coef_)\n",
        "\n",
        "# Print mean squared error\n",
        "print(\"Mean squared error: %.2f\" % mean_squared_error(bike_y_test, bike_y_pred))\n",
        "\n",
        "# Print coefficient of determination\n",
        "print(\"Coefficient of determination: %.2f\" % r2_score(bike_y_test, bike_y_pred))"
      ],
      "metadata": {
        "id": "eBAJdgMKUKAb"
      },
      "execution_count": null,
      "outputs": []
    },
    {
      "cell_type": "code",
      "source": [
        "# Plot outputs\n",
        "\n",
        "# Change to same size for scatter\n",
        "bike_x_test = np.arange(0, len(bike_x_test), 1)\n",
        "bike_y_test = np.arange(0, len(bike_y_test), 1)\n",
        "\n",
        "plt.scatter(bike_x_test, bike_y_test, color=\"black\")\n",
        "plt.plot(bike_x_test, bike_y_pred, color=\"orange\", linewidth=0.3)\n",
        "\n",
        "plt.xticks(())\n",
        "plt.yticks(())\n",
        "\n",
        "plt.show()"
      ],
      "metadata": {
        "colab": {
          "base_uri": "https://localhost:8080/",
          "height": 252
        },
        "id": "L5g6LznNUaUj",
        "outputId": "8f459bb2-7137-4a71-e259-5dec926468f8"
      },
      "execution_count": 21,
      "outputs": [
        {
          "output_type": "display_data",
          "data": {
            "text/plain": [
              "<Figure size 432x288 with 1 Axes>"
            ],
            "image/png": "[encoded data removed]"
          },
          "metadata": {}
        }
      ]
    },
    {
      "cell_type": "markdown",
      "source": [
        "The model performed the way it is because overfitting has happened. It performed perfectly using the training set, but horrible when used with the test set. No regularization is performed. The steps are explained through the comments in the code.\n",
        "\n",
        "\n",
        "\n"
      ],
      "metadata": {
        "id": "1EjuQW0YR6-d"
      }
    },
    {
      "cell_type": "markdown",
      "source": [
        "# 3. Ridge regression"
      ],
      "metadata": {
        "id": "TAcacC3pYqvM"
      }
    },
    {
      "cell_type": "code",
      "source": [
        "import pandas as pd\n",
        "from sklearn.datasets import make_regression\n",
        "from matplotlib import pyplot as plt\n",
        "import numpy as np\n",
        "from sklearn.linear_model import Ridge"
      ],
      "metadata": {
        "id": "2X1_8CMKoVee"
      },
      "execution_count": 154,
      "outputs": []
    },
    {
      "cell_type": "code",
      "source": [
        "# load cvs with github\n",
        "url = 'https://raw.githubusercontent.com/JavIS16/Midexam-dataset/main/london_merged.csv'\n",
        "df = pd.read_csv(url)\n",
        "\n",
        "# X is humidity, y is bike share count\n",
        "# change from string column to float array\n",
        "X = np.reshape(np.array(df['hum'].astype(float)), (-1, 1))\n",
        "y = np.array(df['cnt'].astype(float))"
      ],
      "metadata": {
        "id": "9tzQekZLoVee"
      },
      "execution_count": 155,
      "outputs": []
    },
    {
      "cell_type": "code",
      "source": [
        "# split test data\n",
        "X_train, X_test, y_train, y_test = train_test_split(X, y, test_size=0.33, random_state=30)"
      ],
      "metadata": {
        "id": "0qQCc-froVee"
      },
      "execution_count": 156,
      "outputs": []
    },
    {
      "cell_type": "code",
      "source": [
        "alpha = 1"
      ],
      "metadata": {
        "id": "UgZ4tp-6oVee"
      },
      "execution_count": 157,
      "outputs": []
    },
    {
      "cell_type": "code",
      "source": [
        "# Create identity matrix to be the same as size as \n",
        "n, m = X.shape\n",
        "I = np.identity(m)"
      ],
      "metadata": {
        "id": "11XAuaTwoVee"
      },
      "execution_count": 158,
      "outputs": []
    },
    {
      "cell_type": "code",
      "source": [
        "# coefficient\n",
        "\n",
        "w = np.dot(np.dot(np.linalg.inv(np.dot(X.T, X) + alpha * I), X.T), y)\n",
        "w"
      ],
      "metadata": {
        "colab": {
          "base_uri": "https://localhost:8080/"
        },
        "outputId": "9a9b4090-e737-478a-9aa1-c29c37bad384",
        "id": "NN0vvCiFoVee"
      },
      "execution_count": 166,
      "outputs": [
        {
          "output_type": "execute_result",
          "data": {
            "text/plain": [
              "array([13.88688673])"
            ]
          },
          "metadata": {},
          "execution_count": 166
        }
      ]
    },
    {
      "cell_type": "code",
      "source": [
        "# with train data\n",
        "ridge = Ridge(alpha=99999999999999999999999999999999999999999.0)\n",
        "ridge.fit(X_train, y_train)\n",
        "w = ridge.coef_[0]\n",
        "\n",
        "X_pred = ridge.predict(X_train)\n",
        "\n",
        "plt.scatter(X_train, y_train)\n",
        "plt.plot(X_train, w*X_pred, c='red')"
      ],
      "metadata": {
        "colab": {
          "base_uri": "https://localhost:8080/",
          "height": 282
        },
        "outputId": "aeaad106-c017-4ee6-ce1b-61a48c244d7a",
        "id": "lf6Ho-AtoVee"
      },
      "execution_count": 165,
      "outputs": [
        {
          "output_type": "execute_result",
          "data": {
            "text/plain": [
              "[<matplotlib.lines.Line2D at 0x7f4c5726ef50>]"
            ]
          },
          "metadata": {},
          "execution_count": 165
        },
        {
          "output_type": "display_data",
          "data": {
            "text/plain": [
              "<Figure size 432x288 with 1 Axes>"
            ],
            "image/png": "[encoded data removed]"
          },
          "metadata": {
            "needs_background": "light"
          }
        }
      ]
    },
    {
      "cell_type": "code",
      "source": [
        "# with test data\n",
        "ridge = Ridge(alpha=10)\n",
        "ridge.fit(X_test, y_test)\n",
        "w = ridge.coef_[0]\n",
        "X_pred = ridge.predict(X_test)\n",
        "plt.scatter(X, y)\n",
        "plt.plot(X_test, w*X_pred, c='red')"
      ],
      "metadata": {
        "colab": {
          "base_uri": "https://localhost:8080/",
          "height": 282
        },
        "outputId": "efddb7b7-ad2c-40ab-ce4c-03430627549b",
        "id": "ULyyaP-KoVef"
      },
      "execution_count": 161,
      "outputs": [
        {
          "output_type": "execute_result",
          "data": {
            "text/plain": [
              "[<matplotlib.lines.Line2D at 0x7f4c546b4e10>]"
            ]
          },
          "metadata": {},
          "execution_count": 161
        },
        {
          "output_type": "display_data",
          "data": {
            "text/plain": [
              "<Figure size 432x288 with 1 Axes>"
            ],
            "image/png": "[encoded data removed]"
          },
          "metadata": {
            "needs_background": "light"
          }
        }
      ]
    },
    {
      "cell_type": "markdown",
      "source": [
        "This model performed horribly. Results using the test and training data are the same. The only difference is the alpha. There is no justification."
      ],
      "metadata": {
        "id": "bLE2WUqRognf"
      }
    },
    {
      "cell_type": "markdown",
      "source": [
        "# 4. Comparison between models from no. 2 and no. 3"
      ],
      "metadata": {
        "id": "1BLIWiUsdJpa"
      }
    },
    {
      "cell_type": "markdown",
      "source": [
        "No. 3 used a value called lambda (alpha in python) to change the amoount of variance and bias. No. 2 does not."
      ],
      "metadata": {
        "id": "sRTOIQslqBHb"
      }
    }
  ]
}